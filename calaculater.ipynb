{
  "nbformat": 4,
  "nbformat_minor": 0,
  "metadata": {
    "colab": {
      "name": "calaculater.ipynb",
      "provenance": [],
      "collapsed_sections": [],
      "authorship_tag": "ABX9TyOlNEt5iWrlejggHbx4S38U",
      "include_colab_link": true
    },
    "kernelspec": {
      "name": "python3",
      "display_name": "Python 3"
    },
    "language_info": {
      "name": "python"
    }
  },
  "cells": [
    {
      "cell_type": "markdown",
      "metadata": {
        "id": "view-in-github",
        "colab_type": "text"
      },
      "source": [
        "<a href=\"https://colab.research.google.com/github/roaa-qteishat/calaculater/blob/main/calaculater.ipynb\" target=\"_parent\"><img src=\"https://colab.research.google.com/assets/colab-badge.svg\" alt=\"Open In Colab\"/></a>"
      ]
    },
    {
      "cell_type": "code",
      "execution_count": null,
      "metadata": {
        "id": "5yLYejlmxt-O"
      },
      "outputs": [],
      "source": [
        "6#calc\n",
        "def calculater(num1,num2,oper):\n",
        " try:\n",
        "     if oper=='+':\n",
        "      result=num1+num2\n",
        "     elif oper=='-':\n",
        "      result=num1-num2\n",
        "     elif oper=='*':\n",
        "      result=num1*num2\n",
        "     elif oper=='/':\n",
        "      result=num1/num2  \n",
        "     else :\n",
        "      pass\n",
        "     return result\n",
        " except ValueError:\n",
        "    print(\"Entered value is wrong\")\n",
        " except ZeroDivisionError:\n",
        "    print(\"Can't divide by zero\")\n",
        " \n",
        "#call function\n",
        " \n",
        "a=int(input(\"Enter value of a= :\"))\n",
        "b=int(input(\"Enter value of b= :\"))\n",
        "c=str(input(\"Enter operation of c= :\"))\n",
        "calculater(a,b,c)"
      ]
    }
  ]
}